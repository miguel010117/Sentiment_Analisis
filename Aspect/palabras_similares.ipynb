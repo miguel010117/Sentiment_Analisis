{
 "cells": [
  {
   "cell_type": "code",
   "execution_count": 39,
   "metadata": {},
   "outputs": [
    {
     "name": "stdout",
     "output_type": "stream",
     "text": [
      "Las 5 palabras más similares a planeta son:\n",
      "planeta - Similitud: [[1.]]\n",
      "mundos - Similitud: [[0.5902808]]\n",
      "gigante - Similitud: [[0.5873803]]\n",
      "planetas - Similitud: [[0.55566216]]\n",
      "planetas - Similitud: [[0.55566216]]\n"
     ]
    }
   ],
   "source": [
    "from transformers import RobertaTokenizer, RobertaModel, BertModel, BertTokenizer\n",
    "import torch\n",
    "from sklearn.metrics.pairwise import cosine_similarity\n",
    "\n",
    "# Cargar el modelo pre-entrenado de RoBERTa y el tokenizador\n",
    "PRE_TRAINED_MODEL_NAME = '../Model/beto/'\n",
    "tokenizer = BertTokenizer.from_pretrained(PRE_TRAINED_MODEL_NAME)\n",
    "model = BertModel.from_pretrained(PRE_TRAINED_MODEL_NAME)\n",
    "\n",
    "# Definir la palabra de interés y el texto\n",
    "palabra = \"comida\"\n",
    "texto = \"\"\"La comidas es un aspecto fundamental de la vida diaria. El desayuno se debe comer bien. Disfrutar de una buena \n",
    "comida con amigos y familiares es una experiencia unica. La preparación de la comida \n",
    "requiere tiempo y dedicacion. Los ingredientes frescos son esenciales para una buena \n",
    "comida. La comida saludable es importante para mantener una dieta equilibrada. Los restaurantes ofrecen \n",
    "una amplia variedad de comidas deliciosas. La comida rapida es conveniente pero \n",
    "no siempre es la opción mas saludable. La comida casera tiene un sabor especial \n",
    "y reconfortante. La comida gourmet es un lujo que muchos disfrutan en ocasiones \n",
    "especiales. La comida exótica nos permite explorar nuevos sabores y culturas\"\"\"\n",
    "\n",
    "palabra = \"planeta\"\n",
    "texto = \"\"\"Los planetas, cuerpos celestes que orbitan alrededor de estrellas, han fascinado a la humanidad desde tiempos inmemoriales. Nuestro sistema solar alberga ocho planetas, cada uno con características únicas y fascinantes. Desde el gigante gaseoso Júpiter, con su gran mancha roja, hasta el misterioso y frío Plutón, cuya clasificación como planeta ha sido motivo de debate. Los planetas han sido objeto de estudio e inspiración para científicos, escritores y artistas. Su estudio ha revelado secretos sobre la formación del sistema solar y la posibilidad de vida en otros mundos. La exploración espacial continúa desvelando nuevos misterios sobre estos enigmáticos cuerpos celestes.\"\"\"\n",
    "\n",
    "# Tokenizar el texto y la palabra\n",
    "input_ids = tokenizer.encode(texto, add_special_tokens=True, return_tensors='pt')\n",
    "palabra_ids = tokenizer.encode(palabra, add_special_tokens=False, return_tensors='pt')\n",
    "\n",
    "# Obtener la representación vectorial de la palabra y del texto\n",
    "with torch.no_grad():\n",
    "    outputs = model(input_ids)\n",
    "    word_embeddings = outputs[0][0, 1:-1, :].mean(dim=0, keepdim=True)  # Promedio de los embeddings de las palabras en el texto\n",
    "    palabra_embedding = model(palabra_ids)[0].mean(dim=1)  # Embedding de la palabra\n",
    "\n",
    "\n",
    "# Obtener las palabras más similares\n",
    "similar_words = []\n",
    "for word in tokenizer.tokenize(texto):\n",
    "    word_ids = tokenizer.encode(word, add_special_tokens=False, return_tensors='pt')\n",
    "    with torch.no_grad():\n",
    "        word_embedding = model(word_ids)[0].mean(dim=1)\n",
    "        sim = cosine_similarity(word_embedding.detach().numpy(), palabra_embedding.detach().numpy())\n",
    "        similar_words.append((word, sim))\n",
    "\n",
    "\n",
    "# Ordenar las palabras por similitud y obtener las 5 más similares\n",
    "similar_words.sort(key=lambda x: x[1], reverse=True)\n",
    "top_similar_words = similar_words[:5]\n",
    "\n",
    "\n",
    "# Imprimir las 5 palabras más similares con su valor de similitud\n",
    "print(\"Las 5 palabras más similares a\", palabra, \"son:\")\n",
    "for word, sim in similar_words[:5]:\n",
    "    print(word, \"- Similitud:\", sim)\n"
   ]
  },
  {
   "cell_type": "code",
   "execution_count": 4,
   "metadata": {},
   "outputs": [
    {
     "name": "stdout",
     "output_type": "stream",
     "text": [
      "Palabras con contexto semántico similar a 'planeta'\n"
     ]
    },
    {
     "data": {
      "text/plain": [
       "['planetas',\n",
       " 0.7400456829378707,\n",
       " 'orbitan',\n",
       " 0.7400456829378707,\n",
       " 'planetas',\n",
       " 0.7400456829378707,\n",
       " 'planetas',\n",
       " 0.7400456829378707]"
      ]
     },
     "execution_count": 4,
     "metadata": {},
     "output_type": "execute_result"
    }
   ],
   "source": [
    "import spacy\n",
    "\n",
    "# Cargar el modelo de lenguaje en español\n",
    "nlp = spacy.load(\"es_core_news_md\")\n",
    "\n",
    "# Definir la palabra de contexto\n",
    "palabra = \"comida\"\n",
    "\n",
    "# Definir el texto en el que deseas buscar palabras similares\n",
    "texto = \"\"\"La comidas es un aspecto fundamental de la vida diaria. El desayuno se debe comer bien.\n",
    "Disfrutar de una buena comida con amigos y familiares es una experiencia unica. La preparación de \n",
    "la comida requiere tiempo y dedicacion. Los ingredientes frescos son esenciales para una buena \n",
    "comida. La comida saludable es importante para mantener una dieta equilibrada. Los restaurantes ofrecen \n",
    "una amplia variedad de comidas deliciosas. La comida rapida es conveniente pero \n",
    "no siempre es la opción mas saludable. La comida casera tiene un sabor especial \n",
    "y reconfortante. La comida gourmet es un lujo que muchos disfrutan en ocasiones \n",
    "especiales. La comida exótica nos permite explorar nuevos sabores y culturas\"\"\"\n",
    "\n",
    "palabra = \"planeta\"\n",
    "texto = \"\"\"Los planetas, cuerpos celestes que orbitan alrededor de estrellas, han fascinado a la humanidad desde tiempos inmemoriales. Nuestro sistema solar alberga ocho planetas, cada uno con características únicas y fascinantes. Desde el gigante gaseoso Júpiter, con su gran mancha roja, hasta el misterioso y frío Plutón, cuya clasificación como planeta ha sido motivo de debate. Los planetas han sido objeto de estudio e inspiración para científicos, escritores y artistas. Su estudio ha revelado secretos sobre la formación del sistema solar y la posibilidad de vida en otros mundos. La exploración espacial continúa desvelando nuevos misterios sobre estos enigmáticos cuerpos celestes.\"\"\"\n",
    "\n",
    "\n",
    "# Procesar el texto con spaCy\n",
    "doc = nlp(texto)\n",
    "\n",
    "# Obtener las palabras con contexto semántico similar a la palabra de interés\n",
    "palabras_similares = []\n",
    "for token in doc:\n",
    "    if token.has_vector:  # Verificar si la palabra tiene un vector de embedding\n",
    "        similitud = nlp(palabra).similarity(token)\n",
    "        if similitud > 0.7 and token.text != palabra:  # Ajusta este umbral según tus necesidades\n",
    "            palabras_similares.append(token.text)\n",
    "            palabras_similares.append(similitud)\n",
    "\n",
    "# Imprimir las palabras con contexto semántico similar\n",
    "print(f\"Palabras con contexto semántico similar a '{palabra}'\")\n",
    "palabras_similares"
   ]
  },
  {
   "cell_type": "code",
   "execution_count": 22,
   "metadata": {},
   "outputs": [
    {
     "name": "stdout",
     "output_type": "stream",
     "text": [
      "Palabras relacionadas a 'planeta':\n",
      "{'planetas', 'espacial', 'mundos', 'Júpiter', 'Plutón', 'humanidad', 'orbitan'}\n"
     ]
    }
   ],
   "source": [
    "import spacy\n",
    "\n",
    "# Cargar el modelo de lenguaje de spaCy (puede que necesites descargar el modelo adecuado antes)\n",
    "nlp = spacy.load(\"es_core_news_md\")\n",
    "\n",
    "palabra = \"comida\"\n",
    "texto = \"La comidas es un aspecto fundamental de la vida diaria. El desayuno se debe comer bien.Disfrutar de una buena comida con amigos y familiares es una experiencia unica. La preparación de la comida requiere tiempo y dedicacion. Los ingredientes frescos son esenciales para una buena comida. La comida saludable es importante para mantener una dieta equilibrada. Los restaurantes ofrecen una amplia variedad de comidas deliciosas. La comida rapida es conveniente pero no siempre es la opción mas saludable. La comida casera tiene un sabor especial y reconfortante. La comida gourmet es un lujo que muchos disfrutan en ocasiones especiales. La comida exótica nos permite explorar nuevos sabores y culturas\"\n",
    "\n",
    "palabra = \"planeta\"\n",
    "texto = \"Los planetas, cuerpos celestes que orbitan alrededor de estrellas, han fascinado a la humanidad desde tiempos inmemoriales. Nuestro sistema solar alberga ocho planetas, cada uno con características únicas y fascinantes. Desde el gigante gaseoso Júpiter, con su gran mancha roja, hasta el misterioso y frío Plutón, cuya clasificación como planeta ha sido motivo de debate. Los planetas han sido objeto de estudio e inspiración para científicos, escritores y artistas. Su estudio ha revelado secretos sobre la formación del sistema solar y la posibilidad de vida en otros mundos. La exploración espacial continúa desvelando nuevos misterios sobre estos enigmáticos cuerpos celestes.\"\n",
    "\n",
    "\n",
    "# Tokenizar el texto con spaCy para análisis lingüístico\n",
    "doc = nlp(texto)\n",
    "\n",
    "# Crear un conjunto de palabras relacionadas a la palabra de interés\n",
    "palabras_relacionadas = set()\n",
    "\n",
    "# Iterar sobre las palabras en el texto y encontrar las que son del mismo contexto que la palabra de interés\n",
    "for token in doc:\n",
    "    if token.is_alpha and token.text.lower() != palabra:  # Solo considerar palabras no vacías y distintas de la palabra de interés\n",
    "        similarity_score = nlp(token.text).similarity(nlp(palabra))  # Calcular la similitud semántica con la palabra de interés\n",
    "        if similarity_score > 0.5:  # Ajustar este umbral según la precisión que necesites\n",
    "            palabras_relacionadas.add(token.text)\n",
    "# Imprimir las palabras del mismo contexto\n",
    "print(\"Palabras relacionadas a '{}':\".format(palabra))\n",
    "print(palabras_relacionadas)\n"
   ]
  }
 ],
 "metadata": {
  "kernelspec": {
   "display_name": "Python 3",
   "language": "python",
   "name": "python3"
  },
  "language_info": {
   "codemirror_mode": {
    "name": "ipython",
    "version": 3
   },
   "file_extension": ".py",
   "mimetype": "text/x-python",
   "name": "python",
   "nbconvert_exporter": "python",
   "pygments_lexer": "ipython3",
   "version": "3.11.3"
  }
 },
 "nbformat": 4,
 "nbformat_minor": 2
}
