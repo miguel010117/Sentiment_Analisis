{
 "cells": [
  {
   "cell_type": "code",
   "execution_count": 1,
   "metadata": {},
   "outputs": [],
   "source": [
    "import gensim\n",
    "import pandas as pd\n",
    "import spacy\n",
    "# Cargar el modelo de lenguaje en español\n",
    "nlp = spacy.load(\"es_core_news_md\")"
   ]
  },
  {
   "cell_type": "code",
   "execution_count": 93,
   "metadata": {},
   "outputs": [],
   "source": [
    "vectores = gensim.models.KeyedVectors.load_word2vec_format('../Data/SBW-vectors-300-min5.txt', binary=False, encoding='utf8')"
   ]
  },
  {
   "cell_type": "code",
   "execution_count": 83,
   "metadata": {},
   "outputs": [],
   "source": [
    "df = pd.read_csv('../Data/datos.csv', sep=';')"
   ]
  },
  {
   "cell_type": "code",
   "execution_count": 97,
   "metadata": {},
   "outputs": [
    {
     "data": {
      "text/plain": [
       "[]"
      ]
     },
     "execution_count": 97,
     "metadata": {},
     "output_type": "execute_result"
    }
   ],
   "source": [
    "for i in df['review'][:200]:\n",
    "    doc = nlp(i)\n",
    "    palabras_similares = []\n",
    "    for token in doc:\n",
    "        try:\n",
    "            similitud = vectores.similarity(token.text, \"limpieza\")\n",
    "        except KeyError as e:\n",
    "            e\n",
    "        if similitud > 0.5 and token.text != \"habitación\": # Ajusta este umbral según tus necesidades\n",
    "            palabras_similares.append(token.text)\n",
    "            palabras_similares.append(similitud)\n",
    "    \n",
    "palabras_similares"
   ]
  },
  {
   "cell_type": "code",
   "execution_count": 86,
   "metadata": {},
   "outputs": [
    {
     "name": "stdout",
     "output_type": "stream",
     "text": [
      "Palabras con contexto semántico similar a 'habitación'\n"
     ]
    },
    {
     "data": {
      "text/plain": [
       "['piscina', 0.5596425184442549]"
      ]
     },
     "execution_count": 86,
     "metadata": {},
     "output_type": "execute_result"
    }
   ],
   "source": [
    "# Definir la palabra de contexto\n",
    "palabra = \"habitación\"\n",
    "\n",
    "# Obtener las palabras con contexto semántico similar a la palabra de interés\n",
    "for i in df['review'][:1800]:\n",
    "    doc = nlp(i)\n",
    "    palabras_similares = []\n",
    "    for token in doc:\n",
    "        if token.has_vector:  # Verificar si la palabra tiene un vector de embedding\n",
    "            similitud = nlp(palabra).similarity(token)\n",
    "            if similitud > 0.5 and token.text != palabra:  # Ajusta este umbral según tus necesidades\n",
    "                palabras_similares.append(token.text)\n",
    "                palabras_similares.append(similitud)\n",
    "\n",
    "# Imprimir las palabras con contexto semántico similar\n",
    "print(f\"Palabras con contexto semántico similar a '{palabra}'\")\n",
    "palabras_similares"
   ]
  }
 ],
 "metadata": {
  "kernelspec": {
   "display_name": "Python 3",
   "language": "python",
   "name": "python3"
  },
  "language_info": {
   "codemirror_mode": {
    "name": "ipython",
    "version": 3
   },
   "file_extension": ".py",
   "mimetype": "text/x-python",
   "name": "python",
   "nbconvert_exporter": "python",
   "pygments_lexer": "ipython3",
   "version": "3.11.3"
  }
 },
 "nbformat": 4,
 "nbformat_minor": 2
}
