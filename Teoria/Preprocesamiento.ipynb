{
 "cells": [
  {
   "cell_type": "markdown",
   "metadata": {},
   "source": [
    "## Librerias\n"
   ]
  },
  {
   "cell_type": "code",
   "execution_count": 64,
   "metadata": {},
   "outputs": [],
   "source": [
    "import pandas as pd    # Trabajo de Dataset\n",
    "import nltk\n",
    "from nltk.stem import SnowballStemmer # Realizar Stemmer\n",
    "from nltk.corpus import stopwords  # Contiene las stopWords\n",
    "import re  # Expresiones regulares\n",
    "# import unidecode as un      # Elimianr tildes"
   ]
  },
  {
   "cell_type": "markdown",
   "metadata": {},
   "source": [
    "## Preprocesamiento Basico"
   ]
  },
  {
   "cell_type": "code",
   "execution_count": 26,
   "metadata": {},
   "outputs": [],
   "source": [
    "text = \"El análisis de sentimientos, es un campo de inteligencia artificial.\""
   ]
  },
  {
   "cell_type": "code",
   "execution_count": null,
   "metadata": {},
   "outputs": [],
   "source": [
    "text = un.unidecode(text) # Eliminar tildes de los textos"
   ]
  },
  {
   "cell_type": "code",
   "execution_count": 27,
   "metadata": {},
   "outputs": [
    {
     "data": {
      "text/plain": [
       "'el análisis de sentimientos, es un campo de inteligencia artificial.'"
      ]
     },
     "execution_count": 27,
     "metadata": {},
     "output_type": "execute_result"
    }
   ],
   "source": [
    "text_lower = str.lower(text) # Convertir todas las palabras a minuscula\n",
    "text_lower"
   ]
  },
  {
   "cell_type": "code",
   "execution_count": null,
   "metadata": {},
   "outputs": [],
   "source": [
    "tokens = nltk.word_tokenize(text_lower) # Tokenizar el texto\n",
    "print(tokens)"
   ]
  },
  {
   "cell_type": "code",
   "execution_count": null,
   "metadata": {},
   "outputs": [],
   "source": [
    "# Eliminando StopWords\n",
    "sw = stopwords.words('spanish')\n",
    "text = []\n",
    "for token in tokens:\n",
    "    if not token in sw:\n",
    "        text.append(token)\n",
    "\n",
    "print(text)"
   ]
  },
  {
   "cell_type": "code",
   "execution_count": null,
   "metadata": {},
   "outputs": [],
   "source": [
    "# Realizando Stemmer\n",
    "stem = SnowballStemmer('spanish')\n",
    "text_stemmer = []\n",
    "for word in text:\n",
    "    text_stemmer.append(stem.stem(word))\n",
    "\n",
    "text_stemmer\n"
   ]
  },
  {
   "cell_type": "code",
   "execution_count": null,
   "metadata": {},
   "outputs": [],
   "source": [
    "# Realizando Lematizacion\n"
   ]
  },
  {
   "cell_type": "markdown",
   "metadata": {},
   "source": [
    "## Trabajo con Pandas"
   ]
  },
  {
   "cell_type": "code",
   "execution_count": 32,
   "metadata": {},
   "outputs": [],
   "source": [
    "df = pd.read_csv('data.csv', sep=';') # Cargar el Dataset con pandas\n",
    "\n",
    "# Aclarar el trabajo con rutas"
   ]
  },
  {
   "cell_type": "code",
   "execution_count": null,
   "metadata": {},
   "outputs": [],
   "source": [
    "df # Imprimir dataset"
   ]
  },
  {
   "cell_type": "code",
   "execution_count": null,
   "metadata": {},
   "outputs": [],
   "source": [
    "df.shape      # Cant filas y columnas\n",
    "df.head()     # Muestra los 5 primeros por defecto\n",
    "df.sample(2)  # Muestra n valores aleatorios del dataset\n",
    "df['rank']    # Muestra los datos de cierta columna\n",
    "df['rank'].count() # Cuenta la cantidad de datos de la columna\n",
    "df[df['rank'] ==1] # Mostrar la columna con valor especifico\n",
    "df.groupby('rank').nunique() # Mostrar cantidad de review poe sentimiento\n"
   ]
  },
  {
   "cell_type": "code",
   "execution_count": 69,
   "metadata": {},
   "outputs": [],
   "source": [
    "#Cambiar nombre columnas\n",
    "name = {'rank':'sentiment','review':'reviews'}\n",
    "df = df.rename(columns=name)"
   ]
  },
  {
   "cell_type": "code",
   "execution_count": 71,
   "metadata": {},
   "outputs": [],
   "source": [
    "#Eliminar filas repetidas\n",
    "dataset = df.drop_duplicates(subset='reviews')\n",
    "#Eliminar filas vacias\n",
    "dataset = df.dropna(subset=['reviews'])"
   ]
  },
  {
   "cell_type": "code",
   "execution_count": 72,
   "metadata": {},
   "outputs": [],
   "source": [
    "def depure_data(data):\n",
    "\n",
    "    #Eliminado URL  \n",
    "    url_pattern = re.compile(r'https?://\\S+/www\\.\\S+')\n",
    "    data = url_pattern.sub(r'', data)\n",
    "\n",
    "    #Eliminar caracteres de nueva linea\n",
    "    data = re.sub('\\s+', ' ', data)\n",
    "\n",
    "    #Eliminar sencillos que distraen comillas\n",
    "    data = re.sub(\" \\' \", \"\", data)\n",
    "\n",
    "    return data\n",
    "\n",
    "for i in range(len(dataset['reviews'])):\n",
    "    dataset['reviews'].values.tolist()[i] = depure_data(dataset['reviews'].values.tolist()[i])"
   ]
  },
  {
   "cell_type": "code",
   "execution_count": null,
   "metadata": {},
   "outputs": [],
   "source": [
    "# Cambiar los valores del sentiemiento por 0 y 1\n",
    "index = 0\n",
    "for rank in dataset['sentiment']:\n",
    "    if rank == 3 or rank == 4:\n",
    "        dataset['sentiment'][index] = 1\n",
    "    elif rank == 2:\n",
    "        dataset = dataset.drop(index)\n",
    "    else:\n",
    "        dataset['sentiment'][index] = 0\n",
    "\n",
    "    index += 1\n"
   ]
  },
  {
   "cell_type": "code",
   "execution_count": null,
   "metadata": {},
   "outputs": [],
   "source": [
    "dataset.head(10)"
   ]
  },
  {
   "cell_type": "code",
   "execution_count": 76,
   "metadata": {},
   "outputs": [],
   "source": [
    "#Guardar CSV\n",
    "dataset.reset_index().to_csv('new_dataste.csv',index=False, \n",
    "                            columns=['sentiment', 'reviews'], sep = ';',\n",
    "                            encoding='utf-8')"
   ]
  }
 ],
 "metadata": {
  "kernelspec": {
   "display_name": "Python 3",
   "language": "python",
   "name": "python3"
  },
  "language_info": {
   "codemirror_mode": {
    "name": "ipython",
    "version": 3
   },
   "file_extension": ".py",
   "mimetype": "text/x-python",
   "name": "python",
   "nbconvert_exporter": "python",
   "pygments_lexer": "ipython3",
   "version": "3.11.3"
  }
 },
 "nbformat": 4,
 "nbformat_minor": 2
}
